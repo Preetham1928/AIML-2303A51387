{
  "nbformat": 4,
  "nbformat_minor": 0,
  "metadata": {
    "colab": {
      "provenance": [],
      "include_colab_link": true
    },
    "kernelspec": {
      "name": "python3",
      "display_name": "Python 3"
    },
    "language_info": {
      "name": "python"
    }
  },
  "cells": [
    {
      "cell_type": "markdown",
      "metadata": {
        "id": "view-in-github",
        "colab_type": "text"
      },
      "source": [
        "<a href=\"https://colab.research.google.com/github/Preetham1928/AIML-2303A51387/blob/main/2303A51387_06_Q9.ipynb\" target=\"_parent\"><img src=\"https://colab.research.google.com/assets/colab-badge.svg\" alt=\"Open In Colab\"/></a>"
      ]
    },
    {
      "cell_type": "markdown",
      "source": [
        "Preetham Voorugonda 2303A51387 Batch-06 Question-09"
      ],
      "metadata": {
        "id": "9wyDj_gVL-69"
      }
    },
    {
      "cell_type": "markdown",
      "source": [
        "\n",
        "prediction of online retail purchases\n",
        "1. identify the top 5 reasons for most retail shopes\n",
        "2.identify the country with most online retail sales\n",
        "3.find the max and min quantity of online retail sales\n",
        "4. name the stockade with the most sales\n",
        "5.identity the stockcode with more cancellations\n",
        "6.apply either classification model or clustring model to evaluate the data set"
      ],
      "metadata": {
        "id": "_UGItnLG3CPh"
      }
    },
    {
      "cell_type": "code",
      "source": [
        " #Import necessary libraries\n",
        "import pandas as pd\n",
        "import numpy as np\n",
        "from sklearn.model_selection import train_test_split\n",
        "from sklearn.ensemble import RandomForestClassifier\n",
        "from sklearn.cluster import KMeans\n",
        "from sklearn.metrics import classification_report\n"
      ],
      "metadata": {
        "id": "WFC0mZ9j8b9S"
      },
      "execution_count": null,
      "outputs": []
    },
    {
      "cell_type": "code",
      "source": [
        "# Load the dataset\n",
        "# Replace 'online_retail.xlsx' with the actual file path if necessary\n",
        "data = pd.read_excel('/content/Online Retail.xlsx')\n"
      ],
      "metadata": {
        "id": "1xzJcXgIP2sX"
      },
      "execution_count": null,
      "outputs": []
    },
    {
      "cell_type": "code",
      "source": [
        "# Question 1: Identify the top 5 reasons for most retail sales\n",
        "# Grouping by 'Description' to identify top-selling items\n",
        "top_reasons = data.groupby('Description')['Quantity'].sum().sort_values(ascending=False).head(5)\n",
        "print(\"Top 5 Reasons for Most Retail Sales:\")\n",
        "print(top_reasons)\n"
      ],
      "metadata": {
        "colab": {
          "base_uri": "https://localhost:8080/"
        },
        "id": "HyWOtAbb_pKX",
        "outputId": "7d763e9a-ce80-43ab-9c88-f1f5d5d24d90"
      },
      "execution_count": null,
      "outputs": [
        {
          "output_type": "stream",
          "name": "stdout",
          "text": [
            "Top 5 Reasons for Most Retail Sales:\n",
            "Description\n",
            "WORLD WAR 2 GLIDERS ASSTD DESIGNS    53847\n",
            "JUMBO BAG RED RETROSPOT              47363\n",
            "ASSORTED COLOUR BIRD ORNAMENT        36381\n",
            "POPCORN HOLDER                       36334\n",
            "PACK OF 72 RETROSPOT CAKE CASES      36039\n",
            "Name: Quantity, dtype: int64\n"
          ]
        }
      ]
    },
    {
      "cell_type": "code",
      "source": [
        "# Question 2: Identify the country with most online retail sales\n",
        "country_sales = data.groupby('Country')['Quantity'].sum().sort_values(ascending=False)\n",
        "top_country = country_sales.idxmax()\n",
        "print(\"\\nCountry with Most Online Retail Sales:\")\n",
        "print(f\"{top_country} with {country_sales[top_country]} items sold.\")\n"
      ],
      "metadata": {
        "colab": {
          "base_uri": "https://localhost:8080/"
        },
        "id": "zuOQ4lz6_-WG",
        "outputId": "5461b700-4ffc-466c-b52b-30c0cf0a45c9"
      },
      "execution_count": null,
      "outputs": [
        {
          "output_type": "stream",
          "name": "stdout",
          "text": [
            "\n",
            "Country with Most Online Retail Sales:\n",
            "United Kingdom with 4263829 items sold.\n"
          ]
        }
      ]
    },
    {
      "cell_type": "code",
      "source": [
        "# Question 3: Find the max and min quantity of online retail sales\n",
        "max_quantity = data['Quantity'].max()\n",
        "min_quantity = data['Quantity'].min()\n",
        "print(\"\\nMaximum and Minimum Quantity of Online Retail Sales:\")\n",
        "print(f\"Max Quantity: {max_quantity}, Min Quantity: {min_quantity}\")\n"
      ],
      "metadata": {
        "colab": {
          "base_uri": "https://localhost:8080/"
        },
        "id": "seOnwYWxAAQs",
        "outputId": "850ec2ad-afd6-4161-838d-a4901fb32a06"
      },
      "execution_count": null,
      "outputs": [
        {
          "output_type": "stream",
          "name": "stdout",
          "text": [
            "\n",
            "Maximum and Minimum Quantity of Online Retail Sales:\n",
            "Max Quantity: 80995, Min Quantity: -80995\n"
          ]
        }
      ]
    },
    {
      "cell_type": "code",
      "source": [
        "# Question 4: Name the stock code with the most sales\n",
        "stock_sales = data.groupby('StockCode')['Quantity'].sum().sort_values(ascending=False)\n",
        "top_stock = stock_sales.idxmax()\n",
        "print(\"\\nStock Code with the Most Sales:\")\n",
        "print(f\"StockCode {top_stock} with {stock_sales[top_stock]} items sold.\")\n"
      ],
      "metadata": {
        "colab": {
          "base_uri": "https://localhost:8080/"
        },
        "id": "FvsB4a_sAOAN",
        "outputId": "7b971897-21ab-43ed-c949-4182f840fad7"
      },
      "execution_count": null,
      "outputs": [
        {
          "output_type": "stream",
          "name": "stdout",
          "text": [
            "\n",
            "Stock Code with the Most Sales:\n",
            "StockCode 22197 with 56450 items sold.\n"
          ]
        }
      ]
    },
    {
      "cell_type": "code",
      "source": [
        " #Question 5: Identify the StockCode with most cancellations\n",
        "# Assuming cancellations are identified by negative quantities\n",
        "cancellation_stock = data[data['Quantity'] < 0].groupby('StockCode')['Quantity'].sum().sort_values()\n",
        "most_canceled_stock = cancellation_stock.idxmin()\n",
        "print(\"\\nStockCode with Most Cancellations:\")\n",
        "print(f\"StockCode {most_canceled_stock} with {cancellation_stock[most_canceled_stock]} canceled items.\")\n",
        "\n"
      ],
      "metadata": {
        "colab": {
          "base_uri": "https://localhost:8080/"
        },
        "id": "MR6KuNb1AleL",
        "outputId": "850a7bda-03ac-4603-97ff-2601330e6719"
      },
      "execution_count": null,
      "outputs": [
        {
          "output_type": "stream",
          "name": "stdout",
          "text": [
            "\n",
            "StockCode with Most Cancellations:\n",
            "StockCode 23843 with -80995 canceled items.\n"
          ]
        }
      ]
    },
    {
      "cell_type": "code",
      "source": [
        "# Question 6: Apply either Classification or Clustering Model to evaluate the dataset\n",
        "\n",
        "data['TotalPrice'] = data['Quantity'] * data['UnitPrice']\n",
        "data_cleaned = data.dropna(subset=['CustomerID', 'Quantity', 'UnitPrice'])\n",
        "X = data_cleaned[['Quantity', 'UnitPrice', 'TotalPrice']].copy()\n",
        "y = data_cleaned['Country']  # Using 'Country' as the target for classification\n",
        "y_encoded = pd.factorize(y)[0]\n",
        "X_train, X_test, y_train, y_test = train_test_split(X, y_encoded, test_size=0.2, random_state=42)\n",
        "classifier = RandomForestClassifier(random_state=42)\n",
        "classifier.fit(X_train, y_train)\n",
        "y_pred = classifier.predict(X_test)\n",
        "\n",
        "print(\"\\nClassification Model Report:\")\n",
        "print(classification_report(y_test, y_pred))\n",
        "#clustring\n",
        "kmeans = KMeans(n_clusters=5, random_state=42)  # Assuming 5 clusters\n",
        "clusters = kmeans.fit_predict(X)\n",
        "\n",
        "data_cleaned['Cluster'] = clusters\n",
        "print(\"\\nClustering Results (Cluster Distribution):\")\n",
        "print(data_cleaned['Cluster'].value_counts())"
      ],
      "metadata": {
        "colab": {
          "base_uri": "https://localhost:8080/"
        },
        "id": "CKvN1Y9cBDM5",
        "outputId": "80c01718-1b26-447c-eff2-8282e7cc2a2f"
      },
      "execution_count": null,
      "outputs": [
        {
          "output_type": "stream",
          "name": "stdout",
          "text": [
            "\n",
            "Classification Model Report:\n",
            "              precision    recall  f1-score   support\n",
            "\n",
            "           0       0.89      1.00      0.94     72412\n",
            "           1       0.31      0.00      0.01      1672\n",
            "           2       0.52      0.05      0.10       229\n",
            "           3       0.38      0.09      0.15       465\n",
            "           4       0.43      0.04      0.07      1836\n",
            "           5       0.50      0.00      0.01       218\n",
            "           6       0.44      0.02      0.03      1554\n",
            "           7       0.33      0.01      0.01       359\n",
            "           8       0.55      0.02      0.04       512\n",
            "           9       0.00      0.00      0.00        64\n",
            "          10       0.50      0.01      0.02       321\n",
            "          11       0.00      0.00      0.00       178\n",
            "          12       0.61      0.03      0.05       413\n",
            "          13       0.00      0.00      0.00         7\n",
            "          14       0.25      0.02      0.03        54\n",
            "          15       0.00      0.00      0.00        34\n",
            "          16       0.00      0.00      0.00       151\n",
            "          17       0.14      0.01      0.02        91\n",
            "          18       0.00      0.00      0.00       122\n",
            "          19       0.67      0.15      0.24        95\n",
            "          20       0.00      0.00      0.00        78\n",
            "          21       0.00      0.00      0.00        47\n",
            "          22       0.26      0.03      0.06       156\n",
            "          23       0.00      0.00      0.00        35\n",
            "          24       0.50      0.02      0.04        43\n",
            "          25       0.00      0.00      0.00        11\n",
            "          26       0.00      0.00      0.00        13\n",
            "          27       0.00      0.00      0.00         2\n",
            "          28       0.00      0.00      0.00         2\n",
            "          29       0.00      0.00      0.00        29\n",
            "          30       0.00      0.00      0.00        43\n",
            "          31       0.00      0.00      0.00         7\n",
            "          32       0.50      0.02      0.03        58\n",
            "          33       0.00      0.00      0.00        13\n",
            "          34       0.00      0.00      0.00         5\n",
            "          35       0.00      0.00      0.00        20\n",
            "          36       0.00      0.00      0.00        17\n",
            "\n",
            "    accuracy                           0.89     81366\n",
            "   macro avg       0.21      0.04      0.05     81366\n",
            "weighted avg       0.84      0.89      0.84     81366\n",
            "\n"
          ]
        },
        {
          "output_type": "stream",
          "name": "stderr",
          "text": [
            "/usr/local/lib/python3.10/dist-packages/sklearn/metrics/_classification.py:1531: UndefinedMetricWarning: Precision is ill-defined and being set to 0.0 in labels with no predicted samples. Use `zero_division` parameter to control this behavior.\n",
            "  _warn_prf(average, modifier, f\"{metric.capitalize()} is\", len(result))\n",
            "/usr/local/lib/python3.10/dist-packages/sklearn/metrics/_classification.py:1531: UndefinedMetricWarning: Precision is ill-defined and being set to 0.0 in labels with no predicted samples. Use `zero_division` parameter to control this behavior.\n",
            "  _warn_prf(average, modifier, f\"{metric.capitalize()} is\", len(result))\n",
            "/usr/local/lib/python3.10/dist-packages/sklearn/metrics/_classification.py:1531: UndefinedMetricWarning: Precision is ill-defined and being set to 0.0 in labels with no predicted samples. Use `zero_division` parameter to control this behavior.\n",
            "  _warn_prf(average, modifier, f\"{metric.capitalize()} is\", len(result))\n"
          ]
        },
        {
          "output_type": "stream",
          "name": "stdout",
          "text": [
            "\n",
            "Clustering Results (Cluster Distribution):\n",
            "Cluster\n",
            "0    406824\n",
            "1         2\n",
            "2         1\n",
            "4         1\n",
            "3         1\n",
            "Name: count, dtype: int64\n"
          ]
        },
        {
          "output_type": "stream",
          "name": "stderr",
          "text": [
            "<ipython-input-16-99dc89b731d9>:21: SettingWithCopyWarning: \n",
            "A value is trying to be set on a copy of a slice from a DataFrame.\n",
            "Try using .loc[row_indexer,col_indexer] = value instead\n",
            "\n",
            "See the caveats in the documentation: https://pandas.pydata.org/pandas-docs/stable/user_guide/indexing.html#returning-a-view-versus-a-copy\n",
            "  data_cleaned['Cluster'] = clusters\n"
          ]
        }
      ]
    }
  ]
}